{
 "cells": [
  {
   "cell_type": "code",
   "execution_count": 63,
   "metadata": {},
   "outputs": [],
   "source": [
    "from taxonomy_ranks import TaxonomyRanks\n",
    "import csv\n",
    "import pandas as pd\n",
    "df = pd.read_csv(\"MMETSPinfo.csv\")\n",
    "#get first column\n",
    "keep = df.iloc[:,0]\n",
    "\n",
    "#loop through rows in df and run rank_taxon on them\n",
    "for index, row in df.iterrows():\n",
    "    #make new column for taxon\n",
    "    #print size of df\n",
    "    try:\n",
    "        rank_taxon = TaxonomyRanks(row['Genus'])\n",
    "        rank_taxon.get_lineage_taxids_and_taxanames()\n",
    "        taxon = str(list(rank_taxon.lineages)[0])\n",
    "        df.loc[index, \"Taxon\"] = taxon\n",
    "    except:\n",
    "        df.loc[index, \"Taxon\"] = \"NA\"\n",
    "\n",
    "#make a list of MMETSP ids that have a valid taxon column\n",
    "keep_list = []\n",
    "for index, row in df.iterrows():\n",
    "    if row['Taxon'] != \"NA\":\n",
    "        keep_list.append(row['ID'])\n",
    "#concatenate files together that have the same taxon\n",
    "#group MMETSP ids by taxon not including NA\n",
    "df = df[df[\"Taxon\"] != \"NA\"]\n",
    "\n",
    "#add .pep suffix to ID column\n",
    "df[\"ID\"] = df[\"ID\"] + \".pep\"\n",
    "#get all unique taxas\n",
    "taxas = df[\"Taxon\"].unique()\n",
    "\n",
    "for i in taxas:\n",
    "    #write file called i.pep\n",
    "    with open(i + \".pep\", \"w\") as f:\n",
    "        #write contents to file if the taxon is in the row\n",
    "        for index, row in df.iterrows():\n",
    "            if row[\"Taxon\"] == i:\n",
    "                #open file from row[\"ID\"]\n",
    "                with open(row[\"ID\"]) as g:\n",
    "                    #write contents of g to f\n",
    "                    for line in g:\n",
    "                        f.write(line)\n",
    "\n"
   ]
  },
  {
   "cell_type": "code",
   "execution_count": 70,
   "metadata": {},
   "outputs": [
    {
     "name": "stdout",
     "output_type": "stream",
     "text": [
      "['2985' '35143' '210452' '49242' '101923' '2842' '2857' '2838' '2852'\n",
      " '104535' '98059' '156229' '195968' '31311' '3030' '73024' '74819' '77924'\n",
      " '227085' '55528' '3049' '36882' '32644' '2924' '38821' '36769' '31324'\n",
      " '29198' '67808' '552663' '400754' '304052' '160618' '182086' '141413'\n",
      " '88562' '2949' '41953' '35140' '49237' '515469' '33648' '97491' '2800'\n",
      " '95228' '216776' '38078' '87143' '4774' '60005' '346246' '40632' '311385'\n",
      " '5935' '49977' '285028' '89956' '133426' '4958' '2965' '2960' '2944'\n",
      " '54902' '33630' '505692' '2828' '38268' '31353' '2791' '59796' '163515'\n",
      " '2865' '2867' '340203' '216819' '35127' '498011' '136451' '242540'\n",
      " '1246681' '3164' '498007' '1486928' '1078863' '373141' '2918' '2968'\n",
      " '283646' '693139' '37096' '1118494' '37098' '265571' '33639' '265536'\n",
      " '186035' '63604' '373097' '759891' '2955' '91990' '3004' '3006' '88551'\n",
      " '73914' '47933' '46946' '210617' '38832' '195966' '156132' '88270'\n",
      " '35678' '35676' '44057' '44055' '28000' '70447' '110669' '33652' '2976'\n",
      " '44439' '87110' '420535' '2902' '49248' '157684' '160620' '632149'\n",
      " '179400' '96335' '29203' '83370' '49233' '33641' '35683' '265542' '2915'\n",
      " '41879' '77921' '2997' '89043' '33656' '13607' '312470' '13220' '2831'\n",
      " '172670' '249344' '124429' '1104430' '284809' '2988' '54406' '374046'\n",
      " '983317' '35673' '35686' '1003065' '186019' '3052' '647365' '236786'\n",
      " '2134067' '127548' '259384' '766107' '94616' '265583' '362234' '38816'\n",
      " '29189' '41874' '49251' '38835' '2912' '1486916' '186042' '265578'\n",
      " '753683' '1169538' '1181712' '1482939']\n"
     ]
    }
   ],
   "source": []
  },
  {
   "cell_type": "code",
   "execution_count": null,
   "metadata": {},
   "outputs": [],
   "source": []
  }
 ],
 "metadata": {
  "kernelspec": {
   "display_name": "Python 3.8.8 ('base')",
   "language": "python",
   "name": "python3"
  },
  "language_info": {
   "codemirror_mode": {
    "name": "ipython",
    "version": 3
   },
   "file_extension": ".py",
   "mimetype": "text/x-python",
   "name": "python",
   "nbconvert_exporter": "python",
   "pygments_lexer": "ipython3",
   "version": "3.8.8"
  },
  "orig_nbformat": 4,
  "vscode": {
   "interpreter": {
    "hash": "3acd2f9329542c1c47d2c86552838e664911756b21e425702399feae09a3aab3"
   }
  }
 },
 "nbformat": 4,
 "nbformat_minor": 2
}
